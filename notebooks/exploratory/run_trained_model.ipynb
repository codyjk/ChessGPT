{
 "cells": [
  {
   "cell_type": "code",
   "execution_count": 1,
   "id": "af3f1c99-2b7d-4f45-945c-6ec7607da5ad",
   "metadata": {},
   "outputs": [],
   "source": [
    "import torch\n",
    "from chess_model.model import ChessTransformer\n",
    "\n",
    "# TRAINING_DATA_FILE = \"out/training-data.csv\"\n",
    "# MODEL_OUTPUT_FILE = \"trained_models/len_25_embd_128_layers_2_heads_2/model.pth\"\n",
    "# TOKENIZER_OUTPUT_FILE = \"trained_models/len_25_embd_128_layers_2_heads_2/tokenizer.json\"\n",
    "MODEL_OUTPUT_FILE = \"out/chess_transformer_model.pth\"\n",
    "TOKENIZER_OUTPUT_FILE = \"out/chess_tokenizer.json\"\n",
    "MAX_LEN = 10\n",
    "N_EMBD = 256\n",
    "N_LAYER = 2\n",
    "N_HEAD = 2\n",
    "\n",
    "# Change these to whatever the model was trained with!\n",
    "# These values match the defaults in ChessTransformer:\n",
    "# MAX_LEN = 10\n",
    "# N_EMBD = 256\n",
    "# N_LAYER = 4\n",
    "# N_HEAD = 4\n",
    "\n",
    "# MODEL_OUTPUT_FILE = \"trained_models/len_25_embd_128_layers_2_heads_2/model.pth\"\n",
    "# TOKENIZER_OUTPUT_FILE = \"trained_models/len_25_embd_128_layers_2_heads_2/tokenizer.json\"\n",
    "# MAX_LEN = 25\n",
    "# N_EMBD = 128\n",
    "# N_LAYER = 2\n",
    "# N_HEAD = 2"
   ]
  },
  {
   "cell_type": "code",
   "execution_count": 2,
   "id": "9b430031-c183-4e0a-b9cb-e66d35e00e1e",
   "metadata": {},
   "outputs": [
    {
     "name": "stdout",
     "output_type": "stream",
     "text": [
      "Tokenizer initialized with vocab_size=798\n"
     ]
    }
   ],
   "source": [
    "from chess_model.model import ChessTokenizer\n",
    "\n",
    "tokenizer = ChessTokenizer.load(f\"../../{TOKENIZER_OUTPUT_FILE}\")\n",
    "print(f'Tokenizer initialized with vocab_size={tokenizer.vocab_size}')"
   ]
  },
  {
   "cell_type": "code",
   "execution_count": 3,
   "id": "ea7a4ffb-225f-46fb-af76-f7bf81e78db4",
   "metadata": {
    "scrolled": true
   },
   "outputs": [
    {
     "name": "stdout",
     "output_type": "stream",
     "text": [
      "Loaded model!\n"
     ]
    },
    {
     "name": "stderr",
     "output_type": "stream",
     "text": [
      "/var/folders/dn/sr_rx5j50wj_djmr27wqg6900000gn/T/ipykernel_26109/2183395260.py:4: FutureWarning: You are using `torch.load` with `weights_only=False` (the current default value), which uses the default pickle module implicitly. It is possible to construct malicious pickle data which will execute arbitrary code during unpickling (See https://github.com/pytorch/pytorch/blob/main/SECURITY.md#untrusted-models for more details). In a future release, the default value for `weights_only` will be flipped to `True`. This limits the functions that could be executed during unpickling. Arbitrary objects will no longer be allowed to be loaded via this mode unless they are explicitly allowlisted by the user via `torch.serialization.add_safe_globals`. We recommend you start setting `weights_only=True` for any use case where you don't have full control of the loaded file. Please open an issue on GitHub for any issues related to this experimental feature.\n",
      "  model.load_state_dict(torch.load(f\"../../{MODEL_OUTPUT_FILE}\", map_location=device))\n"
     ]
    }
   ],
   "source": [
    "device = torch.device(\"mps\" if torch.backends.mps.is_available() else \"cuda\" if torch.cuda.is_available() else \"cpu\")\n",
    "\n",
    "model = ChessTransformer(vocab_size=tokenizer.vocab_size, n_positions=MAX_LEN, n_embd=N_EMBD, n_layer=N_LAYER, n_head=N_HEAD)\n",
    "model.load_state_dict(torch.load(f\"../../{MODEL_OUTPUT_FILE}\", map_location=device))\n",
    "\n",
    "model.to(device)\n",
    "print(\"Loaded model!\")"
   ]
  },
  {
   "cell_type": "code",
   "execution_count": 4,
   "id": "3380f610-8082-4b57-8c4b-88075248dcfe",
   "metadata": {},
   "outputs": [],
   "source": [
    "import torch\n",
    "import torch.nn.functional as F\n",
    "import random\n",
    "\n",
    "def preprocess_input(move_sequence, tokenizer, max_length):\n",
    "    input_ids = tokenizer.encode_and_pad(move_sequence, max_length)\n",
    "    return torch.tensor(input_ids).unsqueeze(0)  # Add batch dimension\n",
    "\n",
    "def predict_next_move(model, tokenizer, move_sequence, device, temperature=1.0, top_k=5):\n",
    "    model.eval()  # Set the model to evaluation mode\n",
    "    \n",
    "    # Preprocess the input\n",
    "    input_ids = preprocess_input(move_sequence, tokenizer, model.config.n_positions).to(device)\n",
    "    \n",
    "    with torch.no_grad():\n",
    "        move_logits = model(input_ids)\n",
    "    \n",
    "    # Get the logits for the last position in the sequence\n",
    "    last_move_logits = move_logits[0, -1, :]  # Shape: [vocab_size]\n",
    "    \n",
    "    # Apply temperature to logits\n",
    "    last_move_logits = last_move_logits / temperature\n",
    "    \n",
    "    # Get probabilities\n",
    "    move_probs = F.softmax(last_move_logits, dim=-1)\n",
    "    \n",
    "    # Normalize probabilities\n",
    "    move_probs = move_probs / move_probs.sum()\n",
    "    \n",
    "    # Get top-k moves\n",
    "    top_k_probs, top_k_indices = torch.topk(move_probs, top_k)\n",
    "    \n",
    "    # Sample from top-k moves\n",
    "    sampled_index = torch.multinomial(top_k_probs, 1).item()\n",
    "    predicted_move_id = top_k_indices[sampled_index].item()\n",
    "    predicted_move = tokenizer.decode([predicted_move_id])[0]  # Decode returns a list, so we take the first item\n",
    "\n",
    "    return predicted_move, move_probs\n",
    "\n",
    "def interpret_prediction(predicted_move, move_probs, tokenizer):\n",
    "    print(f\"Predicted next move: {predicted_move}\")\n",
    "    \n",
    "    # Debugging information\n",
    "    print(\"\\nDebugging Information:\")\n",
    "    print(f\"Vocabulary size: {len(tokenizer.move_to_id)}\")\n",
    "    print(\"Top 5 predicted moves:\")\n",
    "    top_moves = torch.topk(move_probs.squeeze(), 5)\n",
    "    for i, (prob, idx) in enumerate(zip(top_moves.values, top_moves.indices)):\n",
    "        move = tokenizer.decode([idx.item()])\n",
    "        print(f\"  {i+1}. {move} (probability: {prob.item():.4f})\")"
   ]
  },
  {
   "cell_type": "code",
   "execution_count": 5,
   "id": "79903883-763e-4731-adbe-3d675aaf5099",
   "metadata": {},
   "outputs": [
    {
     "name": "stdout",
     "output_type": "stream",
     "text": [
      "2\n",
      "Predicted next move: Nf3\n",
      "\n",
      "Debugging Information:\n",
      "Vocabulary size: 798\n",
      "Top 5 predicted moves:\n",
      "  1. ['Nf3'] (probability: 0.9343)\n",
      "  2. ['Bc4'] (probability: 0.0458)\n",
      "  3. ['f4'] (probability: 0.0079)\n",
      "  4. ['Nc3'] (probability: 0.0053)\n",
      "  5. ['d4'] (probability: 0.0049)\n"
     ]
    }
   ],
   "source": [
    "move_sequence = \"e4 e5\".split(' ')\n",
    "print(len(move_sequence))\n",
    "predicted_move, move_probs = predict_next_move(model, tokenizer, move_sequence, device, temperature=0.5, top_k=5)\n",
    "interpret_prediction(predicted_move, move_probs, tokenizer)"
   ]
  },
  {
   "cell_type": "code",
   "execution_count": 10,
   "id": "d283f2e9-94ba-4b13-b619-c0aca440247d",
   "metadata": {},
   "outputs": [
    {
     "name": "stdout",
     "output_type": "stream",
     "text": [
      "Predicted next move: e4\n",
      "\n",
      "Debugging Information:\n",
      "Vocabulary size: 798\n",
      "Top 5 predicted moves:\n",
      "  1. ['e4'] (probability: 0.7747)\n",
      "  2. ['d4'] (probability: 0.1743)\n",
      "  3. ['Nf3'] (probability: 0.0362)\n",
      "  4. ['c4'] (probability: 0.0092)\n",
      "  5. ['Nc3'] (probability: 0.0017)\n"
     ]
    }
   ],
   "source": [
    "# first move prediction\n",
    "predicted_move, move_probs = predict_next_move(model, tokenizer, [], device, temperature=0.5, top_k=5)\n",
    "interpret_prediction(predicted_move, move_probs, tokenizer)"
   ]
  }
 ],
 "metadata": {
  "kernelspec": {
   "display_name": "Python 3 (ipykernel)",
   "language": "python",
   "name": "python3"
  },
  "language_info": {
   "codemirror_mode": {
    "name": "ipython",
    "version": 3
   },
   "file_extension": ".py",
   "mimetype": "text/x-python",
   "name": "python",
   "nbconvert_exporter": "python",
   "pygments_lexer": "ipython3",
   "version": "3.10.13"
  }
 },
 "nbformat": 4,
 "nbformat_minor": 5
}
