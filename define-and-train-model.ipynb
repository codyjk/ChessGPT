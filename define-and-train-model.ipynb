{
 "cells": [
  {
   "cell_type": "code",
   "execution_count": 16,
   "id": "9abfb0ad",
   "metadata": {},
   "outputs": [],
   "source": [
    "import torch\n",
    "import torch.nn as nn\n",
    "import math\n",
    "import re"
   ]
  },
  {
   "cell_type": "code",
   "execution_count": 17,
   "id": "dcc66636",
   "metadata": {},
   "outputs": [
    {
     "data": {
      "text/plain": [
       "6775496"
      ]
     },
     "execution_count": 17,
     "metadata": {},
     "output_type": "execute_result"
    }
   ],
   "source": [
    "def preprocess_game(game_str):\n",
    "    moves = game_str.split()\n",
    "    input_output_pairs = []\n",
    "    for i in range(1, len(moves)):\n",
    "        input_seq = ' '.join(moves[:i])\n",
    "        output_move = moves[i]\n",
    "        input_output_pairs.append((input_seq, output_move))\n",
    "    return input_output_pairs\n",
    "\n",
    "def preprocess_file(file_path):\n",
    "    all_pairs = []\n",
    "    with open(file_path, 'r') as file:\n",
    "        for line in file:\n",
    "            game = line.strip()\n",
    "            all_pairs.extend(preprocess_game(game))\n",
    "    return all_pairs\n",
    "\n",
    "file_path = 'out/grandmaster.txt'\n",
    "training_data = preprocess_file(file_path)\n",
    "len(training_data)"
   ]
  },
  {
   "cell_type": "code",
   "execution_count": 18,
   "id": "1d4e88c6",
   "metadata": {},
   "outputs": [],
   "source": [
    "vocab = set()\n",
    "\n",
    "files = [\n",
    "    'out/beginner.txt',\n",
    "    'out/intermediate.txt',\n",
    "    'out/master.txt',\n",
    "    'out/grandmaster.txt',\n",
    "]\n",
    "\n",
    "for file_path in files:\n",
    "    with open(file_path, 'r') as file:\n",
    "        for line in file:\n",
    "            for word in line.split(' '):\n",
    "                vocab.add(word.strip())\n",
    "vocab = sorted(list(vocab))"
   ]
  },
  {
   "cell_type": "code",
   "execution_count": 19,
   "id": "9a6173cf",
   "metadata": {},
   "outputs": [
    {
     "name": "stdout",
     "output_type": "stream",
     "text": [
      "14038\n"
     ]
    },
    {
     "data": {
      "text/plain": [
       "['0-1',\n",
       " '1-0',\n",
       " '1/2-1/2',\n",
       " 'B1a3',\n",
       " 'B1f2',\n",
       " 'B1f3',\n",
       " 'B2b3',\n",
       " 'B2e3',\n",
       " 'B2e4',\n",
       " 'B3b4',\n",
       " 'B3d4',\n",
       " 'B3e2',\n",
       " 'B3f4',\n",
       " 'B3g2',\n",
       " 'B4e5',\n",
       " 'B5c4',\n",
       " 'B5c6',\n",
       " 'B5d6',\n",
       " 'B5g4',\n",
       " 'B6c7',\n",
       " 'B6d5',\n",
       " 'B6e7',\n",
       " 'B7d4',\n",
       " 'B7d6',\n",
       " 'B7e6',\n",
       " 'B7g6',\n",
       " 'B7h6',\n",
       " 'B8d6',\n",
       " 'B8d7',\n",
       " 'B8e6']"
      ]
     },
     "execution_count": 19,
     "metadata": {},
     "output_type": "execute_result"
    }
   ],
   "source": [
    "print(len(vocab))\n",
    "vocab[:30]"
   ]
  },
  {
   "cell_type": "code",
   "execution_count": 20,
   "id": "caa369c4",
   "metadata": {},
   "outputs": [],
   "source": [
    "# Assuming 'vocab' is your list of moves as created in your code snippet\n",
    "move_to_index = {move: idx for idx, move in enumerate(vocab)}\n",
    "index_to_move = {idx: move for idx, move in enumerate(vocab)}\n",
    "\n",
    "# Add special tokens\n",
    "UNK_TOKEN = '<UNK>'\n",
    "PAD_TOKEN = '<PAD>'\n",
    "move_to_index[UNK_TOKEN] = len(move_to_index)\n",
    "move_to_index[PAD_TOKEN] = len(move_to_index)\n",
    "index_to_move[len(index_to_move)] = UNK_TOKEN\n",
    "index_to_move[len(index_to_move)] = PAD_TOKEN\n",
    "\n",
    "def encode_move(move):\n",
    "    return move_to_index.get(move, move_to_index[UNK_TOKEN])\n",
    "\n",
    "def decode_move(index):\n",
    "    return index_to_move.get(index, UNK_TOKEN)"
   ]
  },
  {
   "cell_type": "code",
   "execution_count": 21,
   "id": "aa6e09f8",
   "metadata": {},
   "outputs": [
    {
     "data": {
      "text/plain": [
       "6645"
      ]
     },
     "execution_count": 21,
     "metadata": {},
     "output_type": "execute_result"
    }
   ],
   "source": [
    "encode_move('Qe4#')"
   ]
  },
  {
   "cell_type": "code",
   "execution_count": 22,
   "id": "a94a11b8",
   "metadata": {},
   "outputs": [
    {
     "data": {
      "text/plain": [
       "'Qe4#'"
      ]
     },
     "execution_count": 22,
     "metadata": {},
     "output_type": "execute_result"
    }
   ],
   "source": [
    "decode_move(6645)"
   ]
  },
  {
   "cell_type": "code",
   "execution_count": 23,
   "id": "8ed3b918",
   "metadata": {},
   "outputs": [],
   "source": [
    "class PositionalEncoding(nn.Module):\n",
    "    def __init__(self, d_model, max_len=5000):\n",
    "        super().__init__()\n",
    "        # Create a matrix of shape (max_len, d_model) filled with zeros\n",
    "        # This will store the positional encodings for each position and dimension\n",
    "        pe = torch.zeros(max_len, d_model)\n",
    "        \n",
    "        # Create a vector of positions from 0 to max_len-1\n",
    "        # Unsqueeze to shape (max_len, 1) for broadcasting\n",
    "        position = torch.arange(0, max_len, dtype=torch.float).unsqueeze(1)\n",
    "        \n",
    "        # Create the division term for the sinusoidal function\n",
    "        # This creates a vector of values that increase exponentially\n",
    "        # We use log(10000.0) as it's a common choice that works well in practice\n",
    "        div_term = torch.exp(torch.arange(0, d_model, 2).float() * (-math.log(10000.0) / d_model))\n",
    "        \n",
    "        # Apply sine to even indices in the positional encoding\n",
    "        # This creates a sinusoidal pattern that varies at different frequencies\n",
    "        pe[:, 0::2] = torch.sin(position * div_term)\n",
    "        \n",
    "        # Apply cosine to odd indices in the positional encoding\n",
    "        # This creates a cosinusoidal pattern that varies at different frequencies\n",
    "        pe[:, 1::2] = torch.cos(position * div_term)\n",
    "        \n",
    "        # Unsqueeze and transpose to shape (1, max_len, d_model)\n",
    "        # This allows for easy addition to the input embeddings later\n",
    "        pe = pe.unsqueeze(0).transpose(0, 1)\n",
    "        \n",
    "        # Register the positional encoding as a buffer\n",
    "        # This means it won't be considered a model parameter (won't be updated during training)\n",
    "        # but will be saved and loaded with the model\n",
    "        self.register_buffer('pe', pe)\n",
    "\n",
    "    def forward(self, x):\n",
    "        # Add the positional encoding to the input\n",
    "        # x is expected to have shape (seq_len, batch_size, d_model)\n",
    "        # We slice the positional encoding to match the input sequence length\n",
    "        return x + self.pe[:x.size(0), :]"
   ]
  },
  {
   "cell_type": "code",
   "execution_count": 24,
   "id": "837caaf0",
   "metadata": {},
   "outputs": [],
   "source": [
    "class ChessTransformer(nn.Module):\n",
    "    def __init__(self, vocab_size, d_model, nhead, num_encoder_layers):\n",
    "        super().__init__()\n",
    "        \n",
    "        # Create an embedding layer to convert input tokens to vectors\n",
    "        # vocab_size is the number of unique tokens in our vocabulary\n",
    "        # d_model is the dimensionality of the embedding space\n",
    "        self.embedding = nn.Embedding(vocab_size, d_model)\n",
    "        \n",
    "        # Create a positional encoding layer\n",
    "        # This adds information about the position of each token in the sequence\n",
    "        self.pos_encoder = PositionalEncoding(d_model)\n",
    "        \n",
    "        # Create a single transformer encoder layer\n",
    "        # This includes self-attention and feedforward neural network\n",
    "        encoder_layers = nn.TransformerEncoderLayer(d_model, nhead)\n",
    "        \n",
    "        # Create the full transformer encoder by stacking multiple encoder layers\n",
    "        # num_encoder_layers determines the depth of the network\n",
    "        self.transformer_encoder = nn.TransformerEncoder(encoder_layers, num_encoder_layers)\n",
    "        \n",
    "        # Store d_model for use in the forward pass\n",
    "        self.d_model = d_model\n",
    "        \n",
    "        # Create a linear layer for the final output\n",
    "        # This projects the transformer output back to vocabulary space\n",
    "        self.linear = nn.Linear(d_model, vocab_size)\n",
    "\n",
    "    def forward(self, src):\n",
    "        # Convert input tokens to embeddings\n",
    "        # Multiply by sqrt(d_model) to scale the embeddings\n",
    "        # This scaling helps maintain the variance of the forward pass\n",
    "        src = self.embedding(src) * math.sqrt(self.d_model)\n",
    "        \n",
    "        # Add positional encoding to the embeddings\n",
    "        src = self.pos_encoder(src)\n",
    "        \n",
    "        # Pass the encoded input through the transformer encoder\n",
    "        output = self.transformer_encoder(src)\n",
    "        \n",
    "        # Project the transformer output to vocabulary space\n",
    "        output = self.linear(output)\n",
    "        \n",
    "        return output"
   ]
  },
  {
   "cell_type": "code",
   "execution_count": 25,
   "id": "97656332",
   "metadata": {},
   "outputs": [],
   "source": []
  },
  {
   "cell_type": "code",
   "execution_count": 26,
   "id": "77c38e32",
   "metadata": {},
   "outputs": [],
   "source": [
    "import torch\n",
    "from torch.utils.data import TensorDataset\n",
    "\n",
    "def create_dataset(data, max_seq_length=50):\n",
    "    \"\"\"\n",
    "    Create a TensorDataset from preprocessed chess move data.\n",
    "    \n",
    "    Args:\n",
    "    data (list): List of tuples, each containing (input_sequence, target_move)\n",
    "    max_seq_length (int): Maximum sequence length to consider\n",
    "    \n",
    "    Returns:\n",
    "    TensorDataset: Dataset containing input sequences and target moves\n",
    "    \"\"\"\n",
    "    input_sequences = []\n",
    "    target_moves = []\n",
    "    \n",
    "    for input_seq, target in data:\n",
    "        # Split the input sequence into individual moves\n",
    "        moves = input_seq.split()\n",
    "        \n",
    "        # Truncate or pad the sequence to max_seq_length\n",
    "        if len(moves) > max_seq_length:\n",
    "            moves = moves[-max_seq_length:]  # Take the last max_seq_length moves\n",
    "        else:\n",
    "            moves = [PAD_TOKEN] * (max_seq_length - len(moves)) + moves  # Pad with PAD_TOKEN\n",
    "        \n",
    "        # Encode the moves\n",
    "        encoded_moves = [encode_move(move) for move in moves]\n",
    "        \n",
    "        # Encode the target move\n",
    "        encoded_target = encode_move(target)\n",
    "        \n",
    "        input_sequences.append(encoded_moves)\n",
    "        target_moves.append(encoded_target)\n",
    "    \n",
    "    # Convert to PyTorch tensors\n",
    "    input_tensor = torch.LongTensor(input_sequences)\n",
    "    target_tensor = torch.LongTensor(target_moves)\n",
    "    \n",
    "    # Create and return the TensorDataset\n",
    "    return TensorDataset(input_tensor, target_tensor)"
   ]
  },
  {
   "cell_type": "code",
   "execution_count": 28,
   "id": "ef4556d7",
   "metadata": {},
   "outputs": [],
   "source": [
    "import torch.optim as optim\n",
    "from torch.utils.data import DataLoader, TensorDataset\n",
    "\n",
    "# Prepare the data\n",
    "input_sequences, target_moves = zip(*training_data)\n",
    "input_tensors = [torch.tensor([encode_move(m) for m in seq.split()]) for seq in input_sequences]\n",
    "target_tensors = torch.tensor([encode_move(m) for m in target_moves])\n",
    "\n",
    "# Pad sequences to the same length\n",
    "max_len = max(len(seq) for seq in input_tensors)\n",
    "input_tensors = [torch.nn.functional.pad(seq, (0, max_len - len(seq))) for seq in input_tensors]\n",
    "input_tensors = torch.stack(input_tensors)"
   ]
  },
  {
   "cell_type": "code",
   "execution_count": 32,
   "id": "32c5898e",
   "metadata": {},
   "outputs": [
    {
     "name": "stdout",
     "output_type": "stream",
     "text": [
      "tensor([[13504,     0,     0,  ...,     0,     0,     0],\n",
      "        [13504, 13628,     0,  ...,     0,     0,     0],\n",
      "        [13504, 13628,  2296,  ...,     0,     0,     0],\n",
      "        ...,\n",
      "        [13389, 13625, 13857,  ...,     0,     0,     0],\n",
      "        [13389, 13625, 13857,  ...,     0,     0,     0],\n",
      "        [13389, 13625, 13857,  ...,     0,     0,     0]])\n",
      "tensor([13628,  2296, 13282,  ...,   753,  8403,     1])\n",
      "593\n"
     ]
    }
   ],
   "source": [
    "print(input_tensors)\n",
    "print(target_tensors)\n",
    "print(max_len)"
   ]
  },
  {
   "cell_type": "code",
   "execution_count": 34,
   "id": "c9eb6756",
   "metadata": {},
   "outputs": [],
   "source": [
    "vocab_size = len(vocab) + 500  # Slightly larger than the actual vocabulary size\n",
    "d_model = 512\n",
    "nhead = 8\n",
    "num_encoder_layers = 6\n",
    "\n",
    "# Create the model\n",
    "model = ChessTransformer(vocab_size, d_model, nhead, num_encoder_layers)"
   ]
  },
  {
   "cell_type": "code",
   "execution_count": null,
   "id": "25515cd0",
   "metadata": {},
   "outputs": [
    {
     "name": "stdout",
     "output_type": "stream",
     "text": [
      "Device: cpu\n",
      "Starting epoch 1/10...\n"
     ]
    }
   ],
   "source": [
    "# Create DataLoader\n",
    "dataset = TensorDataset(input_tensors, target_tensors)\n",
    "dataloader = DataLoader(dataset, batch_size=32, shuffle=True)\n",
    "\n",
    "# Loss and optimizer\n",
    "criterion = nn.CrossEntropyLoss()\n",
    "optimizer = optim.Adam(model.parameters())\n",
    "\n",
    "# Training loop\n",
    "num_epochs = 10\n",
    "device = torch.device(\"cuda\" if torch.cuda.is_available() else \"cpu\")\n",
    "model.to(device)\n",
    "\n",
    "print(f\"Device: {device}\")\n",
    "for epoch in range(num_epochs):\n",
    "    print(f\"Starting epoch {epoch+1}/{num_epochs}...\")\n",
    "    model.train()\n",
    "    total_loss = 0\n",
    "    for batch_input, batch_target in dataloader:\n",
    "        batch_input, batch_target = batch_input.to(device), batch_target.to(device)\n",
    "        \n",
    "        optimizer.zero_grad()\n",
    "        output = model(batch_input)\n",
    "        loss = criterion(output[:, -1, :], batch_target)\n",
    "        loss.backward()\n",
    "        optimizer.step()\n",
    "        \n",
    "        total_loss += loss.item()\n",
    "    \n",
    "    print(f\"Epoch {epoch+1}/{num_epochs}, Loss: {total_loss/len(dataloader):.4f}\")\n",
    "\n",
    "# Save the model\n",
    "torch.save(model.state_dict(), 'chess_model.pth')"
   ]
  },
  {
   "cell_type": "code",
   "execution_count": null,
   "id": "e391938e",
   "metadata": {},
   "outputs": [],
   "source": []
  },
  {
   "cell_type": "code",
   "execution_count": null,
   "id": "86e93be5",
   "metadata": {},
   "outputs": [],
   "source": [
    "# Inference function\n",
    "def predict_next_move(model, move_sequence):\n",
    "    model.eval()\n",
    "    with torch.no_grad():\n",
    "        input_tensor = torch.tensor([encode_move(m) for m in move_sequence.split()]).unsqueeze(0).to(device)\n",
    "        output = model(input_tensor)\n",
    "        predicted_move_index = output[0, -1, :].argmax().item()\n",
    "        return decode_move(predicted_move_index)\n",
    "\n",
    "# Example usage\n",
    "game_so_far = \"e4 e5 Nf3 Nc6 Bb5\"\n",
    "next_move = predict_next_move(model, game_so_far)\n",
    "print(f\"Predicted next move: {next_move}\")"
   ]
  }
 ],
 "metadata": {
  "kernelspec": {
   "display_name": "Python 3 (ipykernel)",
   "language": "python",
   "name": "python3"
  },
  "language_info": {
   "codemirror_mode": {
    "name": "ipython",
    "version": 3
   },
   "file_extension": ".py",
   "mimetype": "text/x-python",
   "name": "python",
   "nbconvert_exporter": "python",
   "pygments_lexer": "ipython3",
   "version": "3.7.14"
  }
 },
 "nbformat": 4,
 "nbformat_minor": 5
}
